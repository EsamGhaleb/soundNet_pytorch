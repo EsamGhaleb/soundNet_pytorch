{
 "cells": [
  {
   "cell_type": "code",
   "execution_count": 1,
   "metadata": {
    "collapsed": true
   },
   "outputs": [],
   "source": [
    "import numpy as np\n",
    "import torch\n",
    "import torch.nn as nn\n",
    "from torch import bmm, cat, randn, zeros\n",
    "from torch.autograd import Variable\n",
    "import os\n",
    "from util import load_from_txt\n",
    "\n",
    "LEN_WAVEFORM = 22050 * 20\n",
    "\n",
    "local_config = {\n",
    "\t'batch_size': 1,\n",
    "\t'eps': 1e-5,\n",
    "\t'sample_rate': 22050,\n",
    "\t'load_size': 22050 * 20,\n",
    "\t'name_scope': 'SoundNet_TF',\n",
    "\t'phase': 'extract',\n",
    "}"
   ]
  },
  {
   "cell_type": "code",
   "execution_count": 26,
   "metadata": {},
   "outputs": [
    {
     "data": {
      "text/plain": [
       "'0.4.0'"
      ]
     },
     "execution_count": 26,
     "metadata": {},
     "output_type": "execute_result"
    }
   ],
   "source": [
    "torch.__version__"
   ]
  },
  {
   "cell_type": "code",
   "execution_count": 33,
   "metadata": {},
   "outputs": [],
   "source": [
    "\n",
    "class SoundNet(nn.Module):\n",
    "\tdef __init__(self):\n",
    "\t\tsuper(SoundNet, self).__init__()\n",
    "\t\t\n",
    "\t\tself.conv1 = nn.Conv2d(1, 16, kernel_size=(64, 1), stride=(2 , 1), padding=(32, 0))\n",
    "\t\tprint(\"Conv1\", self.conv1.weight.shape, self.conv1.bias.shape)\n",
    "\t\tself.batchnorm1 = nn.BatchNorm2d(16, eps=1e-5, momentum=0.1)\n",
    "\t\tprint(\"Bn1\", self.batchnorm1.weight.shape, self.batchnorm1.bias.shape)\n",
    "\t\tself.relu1 = nn.ReLU(True)\n",
    "\t\tself.maxpool1 = nn.MaxPool2d((8, 1), stride=(8, 1))\n",
    "\t\t\n",
    "\t\tself.conv2 = nn.Conv2d(16, 32, kernel_size=(32, 1), stride=(2, 1), padding=(16, 0))\n",
    "\t\tprint(\"Conv2\", self.conv2.weight.shape, self.conv2.bias.shape)\n",
    "\t\tself.batchnorm2 = nn.BatchNorm2d(32, eps=1e-5, momentum=0.1)\n",
    "\t\tprint(\"Bn2\", self.batchnorm2.weight.shape, self.batchnorm2.bias.shape)\n",
    "\t\tself.relu2 = nn.ReLU(True)\n",
    "\t\tself.maxpool2 = nn.MaxPool2d((8, 1), stride=(8, 1))\n",
    "\t\t\n",
    "\t\tself.conv3 = nn.Conv2d(32, 64, kernel_size=(16, 1), stride=(2, 1), padding=(8, 0))\n",
    "\t\tprint(\"Conv3\", self.conv3.weight.shape, self.conv3.bias.shape)\n",
    "\t\tself.batchnorm3 = nn.BatchNorm2d(64, eps=1e-5, momentum=0.1)\n",
    "\t\tprint(\"Bn3\", self.batchnorm3.weight.shape, self.batchnorm3.bias.shape)\n",
    "\t\tself.relu3 = nn.ReLU(True)\n",
    "\t\t\n",
    "\t\tself.conv4 = nn.Conv2d(64, 128, kernel_size=(8, 1), stride=(2, 1),  padding=(4, 0))\n",
    "\t\tprint(\"Conv4\", self.conv4.weight.shape, self.conv4.bias.shape)\n",
    "\t\tself.batchnorm4 = nn.BatchNorm2d(128, eps=1e-5, momentum=0.1)\n",
    "\t\tprint(\"Bn4\", self.batchnorm4.weight.shape, self.batchnorm4.bias.shape)\n",
    "\t\tself.relu4 = nn.ReLU(True)\n",
    "\n",
    "\t\tself.conv5 = nn.Conv2d(128, 256, kernel_size=(4, 1), stride=(2, 1), padding=(2, 0))\n",
    "\t\tprint(\"Conv5\", self.conv5.weight.shape, self.conv5.bias.shape)\n",
    "\t\tself.batchnorm5 = nn.BatchNorm2d(256, eps=1e-5, momentum=0.1)\n",
    "\t\tprint(\"Bn5\", self.batchnorm5.weight.shape, self.batchnorm5.bias.shape)\n",
    "\t\tself.relu5 = nn.ReLU(True)\n",
    "\t\tself.maxpool5 = nn.MaxPool2d((4, 1),  stride=(4, 1))\n",
    "\n",
    "\t\tself.conv6 = nn.Conv2d(256, 512, kernel_size=(4, 1), stride=(2, 1), padding=(2, 0))\n",
    "\t\tprint(\"Conv6\", self.conv6.weight.shape, self.conv6.bias.shape)\n",
    "\t\tself.batchnorm6 = nn.BatchNorm2d(512, eps=1e-5, momentum=0.1)\n",
    "\t\tprint(\"Bn6\", self.batchnorm6.weight.shape, self.batchnorm6.bias.shape)\n",
    "\t\tself.relu6 = nn.ReLU(True)\n",
    "\n",
    "\t\tself.conv7 = nn.Conv2d(512, 1024, kernel_size=(4, 1), stride=(2, 1), padding=(2, 0))\n",
    "\t\tprint(\"Conv7\", self.conv7.weight.shape, self.conv7.bias.shape)\n",
    "\t\tself.batchnorm7 = nn.BatchNorm2d(1024, eps=1e-5, momentum=0.1)\n",
    "\t\tprint(\"Bn7\", self.batchnorm7.weight.shape, self.batchnorm7.bias.shape)\n",
    "\t\tself.relu7 = nn.ReLU(True)\n",
    "\n",
    "\t\tself.conv8_objs = nn.Conv2d(1024, 1000, kernel_size=(8 ,1), stride=(2, 1))\n",
    "\t\tprint(\"Conv81\", self.conv8_objs.weight.shape, self.conv8_objs.bias.shape)\n",
    "\t\tself.conv8_scns = nn.Conv2d(1024, 401, kernel_size=(8 ,1), stride=(2, 1))\n",
    "\t\tprint(\"Conv82\", self.conv8_scns.weight.shape, self.conv8_scns.bias.shape)\n",
    "\t\n",
    "\tdef forward(self, waveform):\n",
    "\t\t\"\"\"\n",
    "\t\t\tArgs:\n",
    "\t\t\t\twaveform (Variable): Raw 20s waveform.\n",
    "\t\t\"\"\"\n",
    "\t\tif torch.cuda.is_available():\n",
    "\t\t\twaveform.cuda()\n",
    "\t\t\n",
    "\t\tout = self.conv1(waveform)\n",
    "\t\tprint('Max value of conv1: {:.4f}'.format(np.max(out.data.numpy())))\n",
    "\t\tprint('Min value of conv1: {:.4f}'.format(np.min(out.data.numpy())))\n",
    "\t\tself.batchnorm1.eval()\n",
    "\t\tout = self.batchnorm1(out)\n",
    "\t\tprint('Max value of BN1: {:.4f}'.format(np.max(out.data.numpy())))\n",
    "\t\tprint('Min value of BN1: {:.4f}'.format(np.min(out.data.numpy())))\n",
    "\t\tout = self.relu1(out)\n",
    "\t\tprint('Max value of relU1: {:.4f}'.format(np.max(out.data.numpy())))\n",
    "\t\tprint('Min value of relu1: {:.4f}'.format(np.min(out.data.numpy())))\n",
    "\t\tout = self.maxpool1(out)\n",
    "\t\tprint('Max value of maxpool1: {:.4f}'.format(np.max(out.data.numpy())))\n",
    "\t\tprint('Min value of maxpool1: {:.4f}'.format(np.min(out.data.numpy())))\n",
    "\t\t\n",
    "\t\treturn out.data.numpy()\n",
    "\t\n",
    "\t@staticmethod\n",
    "\tdef put_weights(batchnorm, conv, params_w, batch_norm=True):\n",
    "\t\tif batch_norm:\n",
    "\t\t\tbn_bs = params_w['beta']\n",
    "\t\t\tbatchnorm.bias = torch.nn.Parameter(torch.from_numpy(bn_bs))\n",
    "\t\t\tbn_ws = params_w['gamma']\n",
    "\t\t\tbatchnorm.weight = torch.nn.Parameter(torch.from_numpy(bn_ws))\n",
    "\t\t\tbn_mean = params_w['mean']\n",
    "\t\t\tbatchnorm.running_mean.data = torch.nn.Parameter(torch.from_numpy(bn_mean))\n",
    "\t\t\tbn_var = params_w['var']\n",
    "\t\t\tbatchnorm.running_var.data = torch.nn.Parameter(torch.from_numpy(bn_var))\n",
    "\t\t\n",
    "\t\tconv_bs = params_w['biases']\n",
    "\t\tconv.bias = torch.nn.Parameter(torch.from_numpy(conv_bs))\n",
    "\t\tconv_ws = params_w['weights']\n",
    "\t\tconv_ws = torch.from_numpy(conv_ws).permute(3, 2, 0, 1)\n",
    "\t\tconv.weight = torch.nn.Parameter(conv_ws)\n",
    "\t\t\n",
    "\t\treturn batchnorm, conv\n",
    "\t\n",
    "\tdef load_weights(self):\n",
    "\t\tparam_G = np.load('models/sound8.npy', encoding='latin1').item()\n",
    "\t\t\n",
    "\t\tparams_w = param_G['conv1']\n",
    "\t\tself.batchnorm1, self.conv1 = self.put_weights(self.batchnorm1, self.conv1, params_w)\n",
    "\t\t\n",
    "\t\tparams_w = param_G['conv2']\n",
    "\t\tself.batchnorm2, self.conv2 = self.put_weights(self.batchnorm2, self.conv2, params_w)\n",
    "\t\t\n",
    "\t\tparams_w = param_G['conv3']\n",
    "\t\tself.batchnorm3, self.conv3 = self.put_weights(self.batchnorm3, self.conv3, params_w)\n",
    "\t\t\n",
    "\t\tparams_w = param_G['conv4']\n",
    "\t\tself.batchnorm4, self.conv4 = self.put_weights(self.batchnorm4, self.conv4, params_w)\n",
    "\t\t\n",
    "\t\tparams_w = param_G['conv5']\n",
    "\t\tself.batchnorm5, self.conv5 = self.put_weights(self.batchnorm5, self.conv5, params_w)\n",
    "\t\t\n",
    "\t\tparams_w = param_G['conv6']\n",
    "\t\tself.batchnorm6, self.conv6 = self.put_weights(self.batchnorm6, self.conv6, params_w)\n",
    "\t\t\n",
    "\t\tparams_w = param_G['conv7']\n",
    "\t\tself.batchnorm7, self.conv7 = self.put_weights(self.batchnorm7, self.conv7, params_w)\n",
    "\t\t\n",
    "\t\tparams_w = param_G['conv8']\n",
    "\t\t_ , self.conv8_objs = self.put_weights([], self.conv8_objs, params_w, batch_norm=False)\n",
    "\t\tparams_w = param_G['conv8_2']\n",
    "\t\t_, self.conv8_scns = self.put_weights([], self.conv8_scns, params_w, batch_norm=False)\n"
   ]
  },
  {
   "cell_type": "code",
   "execution_count": 34,
   "metadata": {
    "collapsed": false
   },
   "outputs": [
    {
     "name": "stdout",
     "output_type": "stream",
     "text": [
      "Conv1 torch.Size([16, 1, 64, 1]) torch.Size([16])\nBn1 torch.Size([16]) torch.Size([16])\nConv2 torch.Size([32, 16, 32, 1]) torch.Size([32])\nBn2 torch.Size([32]) torch.Size([32])\nConv3 torch.Size([64, 32, 16, 1]) torch.Size([64])\nBn3 torch.Size([64]) torch.Size([64])\nConv4 torch.Size([128, 64, 8, 1]) torch.Size([128])\nBn4 torch.Size([128]) torch.Size([128])\nConv5 torch.Size([256, 128, 4, 1]) torch.Size([256])\nBn5 torch.Size([256]) torch.Size([256])\nConv6 torch.Size([512, 256, 4, 1]) torch.Size([512])\nBn6 torch.Size([512]) torch.Size([512])\nConv7 torch.Size([1024, 512, 4, 1]) torch.Size([1024])\nBn7 torch.Size([1024]) torch.Size([1024])\nConv81 torch.Size([1000, 1024, 8, 1]) torch.Size([1000])\nConv82 torch.Size([401, 1024, 8, 1]) torch.Size([401])\nProcessing: 0\n73500.0\nSoundNet(\n  (conv1): Conv2d(1, 16, kernel_size=(64, 1), stride=(2, 1), padding=(32, 0))\n  (batchnorm1): BatchNorm2d(16, eps=1e-05, momentum=0.1, affine=True, track_running_stats=True)\n  (relu1): ReLU(inplace)\n  (maxpool1): MaxPool2d(kernel_size=(8, 1), stride=(8, 1), padding=0, dilation=1, ceil_mode=False)\n  (conv2): Conv2d(16, 32, kernel_size=(32, 1), stride=(2, 1), padding=(16, 0))\n  (batchnorm2): BatchNorm2d(32, eps=1e-05, momentum=0.1, affine=True, track_running_stats=True)\n  (relu2): ReLU(inplace)\n  (maxpool2): MaxPool2d(kernel_size=(8, 1), stride=(8, 1), padding=0, dilation=1, ceil_mode=False)\n  (conv3): Conv2d(32, 64, kernel_size=(16, 1), stride=(2, 1), padding=(8, 0))\n  (batchnorm3): BatchNorm2d(64, eps=1e-05, momentum=0.1, affine=True, track_running_stats=True)\n  (relu3): ReLU(inplace)\n  (conv4): Conv2d(64, 128, kernel_size=(8, 1), stride=(2, 1), padding=(4, 0))\n  (batchnorm4): BatchNorm2d(128, eps=1e-05, momentum=0.1, affine=True, track_running_stats=True)\n  (relu4): ReLU(inplace)\n  (conv5): Conv2d(128, 256, kernel_size=(4, 1), stride=(2, 1), padding=(2, 0))\n  (batchnorm5): BatchNorm2d(256, eps=1e-05, momentum=0.1, affine=True, track_running_stats=True)\n  (relu5): ReLU(inplace)\n  (maxpool5): MaxPool2d(kernel_size=(4, 1), stride=(4, 1), padding=0, dilation=1, ceil_mode=False)\n  (conv6): Conv2d(256, 512, kernel_size=(4, 1), stride=(2, 1), padding=(2, 0))\n  (batchnorm6): BatchNorm2d(512, eps=1e-05, momentum=0.1, affine=True, track_running_stats=True)\n  (relu6): ReLU(inplace)\n  (conv7): Conv2d(512, 1024, kernel_size=(4, 1), stride=(2, 1), padding=(2, 0))\n  (batchnorm7): BatchNorm2d(1024, eps=1e-05, momentum=0.1, affine=True, track_running_stats=True)\n  (relu7): ReLU(inplace)\n  (conv8_objs): Conv2d(1024, 1000, kernel_size=(8, 1), stride=(2, 1))\n  (conv8_scns): Conv2d(1024, 401, kernel_size=(8, 1), stride=(2, 1))\n)\nexample.wav\n"
     ]
    },
    {
     "name": "stdout",
     "output_type": "stream",
     "text": [
      "Max value of conv1: 1584.0886\nMin value of conv1: -1547.1093\nMax value of BN1: 17.7110\nMin value of BN1: -17.3334\nMax value of relU1: 17.7110\nMin value of relu1: 0.0000\nMax value of maxpool1: 17.7110\nMin value of maxpool1: 0.0000\n"
     ]
    }
   ],
   "source": [
    "audio_txt = 'audio_files.txt'\n",
    "\t\n",
    "model = SoundNet()\n",
    "model.load_weights()\n",
    "\n",
    "# Extract Feature\n",
    "sound_samples, audio_paths = load_from_txt(audio_txt, config=local_config)\n",
    "\n",
    "print(LEN_WAVEFORM / 6)\n",
    "print(model)\n",
    "features = {}\n",
    "features['feats'] = []\n",
    "features['paths'] = []\n",
    "import pdb\n",
    "model.eval()\n",
    "for idx, sound_sample in enumerate(sound_samples):\n",
    "\tprint(audio_paths[idx])\n",
    "\tnew_sample = torch.from_numpy(sound_sample)\n",
    "\toutput = model.forward(new_sample)\n",
    "\tfeatures['feats'].append(output)\n",
    "\tfeatures['paths'].append(audio_paths[idx])"
   ]
  }
 ],
 "metadata": {
  "kernelspec": {
   "display_name": "Python 2",
   "language": "python",
   "name": "python2"
  },
  "language_info": {
   "codemirror_mode": {
    "name": "ipython",
    "version": 2
   },
   "file_extension": ".py",
   "mimetype": "text/x-python",
   "name": "python",
   "nbconvert_exporter": "python",
   "pygments_lexer": "ipython2",
   "version": "2.7.6"
  }
 },
 "nbformat": 4,
 "nbformat_minor": 0
}
